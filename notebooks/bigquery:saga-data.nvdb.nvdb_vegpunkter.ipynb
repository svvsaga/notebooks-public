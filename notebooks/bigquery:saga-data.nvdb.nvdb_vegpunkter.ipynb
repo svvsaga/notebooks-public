{
 "cells": [
  {
   "cell_type": "markdown",
   "metadata": {
    "id": "-Uul1ef1nIR_"
   },
   "source": [
    "## NVDB Vegpunkter - Eksempelspørringer"
   ]
  },
  {
   "cell_type": "markdown",
   "metadata": {
    "id": "t3Us5ggunISB"
   },
   "source": [
    "Hei!<br>\n",
    "Her finner du en rekke eksempler på bruk av tabellen nvdb_vegpunkter og nvdb_vegpunkter_history i praksis.<br>\n",
    "Merk at tabellen NVDB Vegpunker alltid representerer den nyeste representasjonen av det fysiske veinettet (run_yearmonth = inneværende måned), og at historikken ligger i \"_history\"-tabellen.<br><br>\n",
    "**NB!** I noen tilfeller har vi brukt _history-tabellen, i de eksemplene der vi viser til en spesifikk punkt_id.<br>\n",
    "Dette for at eksempelet ikke skal slutte å virke en gang i fremtiden."
   ]
  },
  {
   "cell_type": "code",
   "execution_count": null,
   "metadata": {
    "id": "voCpdStZ22kr",
    "tags": [
     "parameters"
    ]
   },
   "outputs": [],
   "source": [
    "project = 'saga-data'\n",
    "use_colab_auth = True\n",
    "\n",
    "# Legg inn ditt eget prosjekt her, f.eks. 'saga-olanor-sandbox-abcd'\n",
    "bq_job_project = ''"
   ]
  },
  {
   "cell_type": "code",
   "execution_count": null,
   "metadata": {
    "id": "Q1bUEOFb22ks"
   },
   "outputs": [],
   "source": [
    "if (use_colab_auth):\n",
    "    from google.colab import auth\n",
    "    auth.authenticate_user()\n",
    "    print('Authenticated')"
   ]
  },
  {
   "cell_type": "code",
   "execution_count": null,
   "metadata": {
    "id": "uVtC9xEB22ks"
   },
   "outputs": [],
   "source": [
    "import warnings\n",
    "from google.cloud import bigquery\n",
    "\n",
    "warnings.filterwarnings('ignore')\n",
    "client = bigquery.Client(project=bq_job_project)"
   ]
  },
  {
   "cell_type": "markdown",
   "metadata": {
    "id": "L7HCxHoavJ81"
   },
   "source": [
    "## Eksempel 1\n",
    "\n",
    "Jeg har noen vegbredde-data som jeg gjerne skulle ha beriket med fartsgrense."
   ]
  },
  {
   "cell_type": "code",
   "execution_count": null,
   "metadata": {
    "id": "gJHLjpr5vpco"
   },
   "outputs": [],
   "source": [
    "query = f\"\"\"\n",
    "-- Vi lager en rad for å simulere dataene\n",
    "with vegbredde as (\n",
    "  select\n",
    "    72611 as veglenkesekvensid,\n",
    "    0.578742 as startposisjon,\n",
    "    1.0 as sluttposisjon,\n",
    "    6 as vegbredde\n",
    ")\n",
    "\n",
    "-- Vi må koble dette til vegpunktene for enkel sammenstilling med\n",
    "-- data om fartsgrensene. Først henter vi vegpunktene\n",
    ", vegpunkter as (\n",
    "  select *\n",
    "  from saga-data.nvdb.nvdb_vegpunkter\n",
    ")\n",
    "\n",
    "-- Og kobler data om vegbredde til vegpunktene for å få informasjonen på metersnivå\n",
    ", join_vegbredde as (\n",
    "  select\n",
    "    a.punkt_id,\n",
    "    a.veglenkesekvensid,\n",
    "    a.relativ_posisjon,\n",
    "    b.vegbredde\n",
    "  from vegpunkter as a\n",
    "  inner join vegbredde as b\n",
    "    on a.veglenkesekvensid = b.veglenkesekvensid\n",
    "    and a.relativ_posisjon between b.startposisjon and b.sluttposisjon\n",
    ")\n",
    "\n",
    "-- Vi henter så fartsgrenser\n",
    ", fartsgrenser as (\n",
    "  select\n",
    "    egenskaper.fartsgrenseverdi as fartsgrense,\n",
    "    ls.veglenkesekvensid,\n",
    "    ls.startposisjon,\n",
    "    ls.sluttposisjon\n",
    "  from saga-nvdb-prod-vlmh.standardized.vegobjekter_fartsgrense,\n",
    "  unnest(lokasjon.stedfestinger) as ls\n",
    "  where (metadata.sluttdato is null or metadata.sluttdato >= current_date())\n",
    ")\n",
    "\n",
    "-- Vi kobler fartsgrenser på vegpunktene\n",
    ", joined_all as (\n",
    "  select\n",
    "    a.*,\n",
    "    b.fartsgrense\n",
    "  from join_vegbredde as a\n",
    "  inner join fartsgrenser as b\n",
    "    on a.veglenkesekvensid = b.veglenkesekvensid\n",
    "    and a.relativ_posisjon between b.startposisjon and b.sluttposisjon\n",
    ")\n",
    "\n",
    "-- Og ruller det opp igjen til det originale formatet med\n",
    "-- veglenkesekvenser og start-/sluttposisjoner\n",
    "select\n",
    "  veglenkesekvensid,\n",
    "  vegbredde,\n",
    "  fartsgrense,\n",
    "  min(relativ_posisjon) as startposisjon,\n",
    "  max(relativ_posisjon) as sluttposisjon\n",
    "from joined_all\n",
    "group by 1,2,3\n",
    ";\n",
    "\"\"\"\n",
    "\n",
    "print(query)\n",
    "\n",
    "client.query(query).to_dataframe()"
   ]
  },
  {
   "cell_type": "markdown",
   "metadata": {
    "id": "MB92oTVC22kt"
   },
   "source": [
    "## Eksempel 2\n",
    "Jeg har fått noen data med såkalt \"lokasjon.stedfestinger.kortform\".\n",
    "For eksempel \"0.01587524-0.2725013@971774\". Hvor i Norge er dette?"
   ]
  },
  {
   "cell_type": "code",
   "execution_count": null,
   "metadata": {
    "id": "5kX52miG22ku"
   },
   "outputs": [],
   "source": [
    "query = f\"\"\"\n",
    "-- Vi lager en rad for å simulere dataene\n",
    "with eksempeldata as (\n",
    "  select\n",
    "    \"0.01587524-0.2725013@971774\" as kortform,\n",
    "    42 as measurement\n",
    ")\n",
    "\n",
    "-- Dette er egentlig veglenkesekvensid og relative posisjoner,\n",
    "-- så dataene må brytes opp først\n",
    ", eksempeldata_brutt_opp_steg1 as (\n",
    "  select\n",
    "    split(kortform, '@')[OFFSET(0)] as start_til_sluttposisjon,\n",
    "    split(kortform, '@')[OFFSET(1)] as veglenkesekvensid\n",
    "  from eksempeldata\n",
    ")\n",
    "\n",
    "-- Deretter kaller vi variablene det som dataene representerer\n",
    ", eksempeldata_brutt_opp_steg2 as (\n",
    "  select\n",
    "    cast(veglenkesekvensid as int64) as veglenkesekvensid,\n",
    "    cast(split(start_til_sluttposisjon, '-')[OFFSET(0)] as float64) as startposisjon,\n",
    "    cast(split(start_til_sluttposisjon, '-')[OFFSET(1)] as float64) as sluttposisjon\n",
    "  from eksempeldata_brutt_opp_steg1\n",
    ")\n",
    "\n",
    "-- Vi henter inn vegpunktene\n",
    ", vegpunkter as (\n",
    "  select *\n",
    "  from saga-data.nvdb.nvdb_vegpunkter\n",
    ")\n",
    "\n",
    "-- Og kobler det hele sammen\n",
    ", joined_to_vegpunkter as (\n",
    "  select\n",
    "    vegkategori,\n",
    "    vegnummer,\n",
    "    kommunenummer,\n",
    "    sum(meter_til_neste_punkt) as antall_meter\n",
    "  from eksempeldata_brutt_opp_steg2 as a\n",
    "  inner join vegpunkter as b\n",
    "    on a.veglenkesekvensid = b.veglenkesekvensid\n",
    "    and b.relativ_posisjon between a.startposisjon and a.sluttposisjon\n",
    "  group by 1,2,3\n",
    "  order by 1,2,3\n",
    ")\n",
    "\n",
    "-- Deretter lurer vi på hvilken kommune som kommunenummeret tilhører - vi henter det inn\n",
    ", join_kommunenavn as (\n",
    "  select\n",
    "    a.*, b.kommunenavn\n",
    "  from joined_to_vegpunkter as a\n",
    "  left join saga-data.geografi.kommuner_2020_v2 as b\n",
    "    on a.kommunenummer = b.kommunenummer\n",
    ")\n",
    "\n",
    "select *\n",
    "from join_kommunenavn\n",
    ";\n",
    "\"\"\"\n",
    "\n",
    "print(query)\n",
    "\n",
    "client.query(query).to_dataframe()"
   ]
  },
  {
   "cell_type": "markdown",
   "metadata": {
    "id": "jLvrkKbF22ku"
   },
   "source": [
    "Svar: Stedfestingen er på E6 i Halden, og er ca 1.66 km lang."
   ]
  },
  {
   "cell_type": "markdown",
   "metadata": {
    "id": "f_XC_7Cz22ku"
   },
   "source": [
    "## Eksempel 3\n",
    "Jeg har to datasett som kun er geografiske objekter (linestrings) men de har ikke noe mer info. Hvordan kan jeg koble datasettene sammen der geografien overlapper, og berike dataene med informasjon om vegnettet fra NVDB Vegpunkter?"
   ]
  },
  {
   "cell_type": "code",
   "execution_count": null,
   "metadata": {
    "id": "vlkdEdlY22kv"
   },
   "outputs": [],
   "source": [
    "query = f\"\"\"\n",
    "-- Vi lager først begge eksempeldatasettene\n",
    "with data1 as (\n",
    "  select\n",
    "    172 as id,\n",
    "    ST_GeogFromText('''LINESTRING(10.227466 59.723153, 10.22756 59.723072,\n",
    "      10.22765 59.722985, 10.227688 59.722949, 10.227723 59.722912, 10.227759 59.722874,\n",
    "      10.227794 59.722838, 10.227828 59.7228, 10.227862 59.722763, 10.227896 59.722725,\n",
    "      10.227928 59.722688, 10.22796 59.722649, 10.22799 59.722612)''') as geometri,\n",
    "    42 as measurement_one\n",
    ")\n",
    "\n",
    ", data2 as (\n",
    "  select\n",
    "    172 as id,\n",
    "    ST_GeogFromText('LINESTRING(10.227688 59.722949, 10.227723 59.722912, 10.227759 59.722874, 10.227794 59.722838)') as geometri,\n",
    "    78 as measurement_two\n",
    ")\n",
    "\n",
    "-- Vi beriker datasettene med kvadratiske rutenett for raskere\n",
    "-- påkobling mot NVDB Vegpunkter\n",
    ", add_squaregrids_to_data1 as (\n",
    "  select\n",
    "    a.*,\n",
    "    d.square_gridcell_id_small\n",
    "  from\n",
    "    data1 as a\n",
    "  inner join saga-data.geografi.norway_square_polygons_large as b\n",
    "    on st_intersects(a.geometri, b.geometri)\n",
    "  inner join saga-data.geografi.norway_square_polygons_medium as c\n",
    "    on b.x_index_large = c.x_index_large\n",
    "    and b.y_index_large = c.y_index_large\n",
    "    and st_intersects(a.geometri, c.geometri)\n",
    "  inner join saga-data.geografi.norway_square_polygons_small as d\n",
    "    on c.x_index_medium = d.x_index_medium\n",
    "    and c.y_index_medium = d.y_index_medium\n",
    "    and st_intersects(a.geometri, d.geometri)\n",
    ")\n",
    "\n",
    ", add_squaregrids_to_data2 as (\n",
    "  select\n",
    "    a.*,\n",
    "    d.square_gridcell_id_small\n",
    "  from\n",
    "    data2 as a\n",
    "  inner join saga-data.geografi.norway_square_polygons_large as b\n",
    "    on st_intersects(a.geometri, b.geometri)\n",
    "  inner join saga-data.geografi.norway_square_polygons_medium as c\n",
    "    on b.x_index_large = c.x_index_large\n",
    "    and b.y_index_large = c.y_index_large\n",
    "    and st_intersects(a.geometri, c.geometri)\n",
    "  inner join saga-data.geografi.norway_square_polygons_small as d\n",
    "    on c.x_index_medium = d.x_index_medium\n",
    "    and c.y_index_medium = d.y_index_medium\n",
    "    and st_intersects(a.geometri, d.geometri)\n",
    ")\n",
    "\n",
    "-- Vi henter vegpunktene\n",
    ", vegpunkter as (\n",
    "  select *\n",
    "  from saga-data.nvdb.nvdb_vegpunkter\n",
    ")\n",
    "\n",
    "-- Vi kobler de to datasettene på vegpunktene\n",
    "select\n",
    "  a.*,\n",
    "  b.measurement_one,\n",
    "  c.measurement_two\n",
    "from vegpunkter as a\n",
    "inner join add_squaregrids_to_data1 as b\n",
    "  on a.square_gridcell_id_small = b.square_gridcell_id_small\n",
    "  and st_intersects(st_buffer(b.geometri, 10), a.punkt_geometri)\n",
    "inner join add_squaregrids_to_data2 as c\n",
    "  on a.square_gridcell_id_small = c.square_gridcell_id_small\n",
    "  and st_intersects(st_buffer(c.geometri, 10), a.punkt_geometri)\n",
    "order by veglenkesekvensid, relativ_posisjon asc\n",
    "\"\"\"\n",
    "\n",
    "print(query)\n",
    "\n",
    "client.query(query).to_dataframe()"
   ]
  },
  {
   "cell_type": "markdown",
   "metadata": {
    "id": "XimpD_JW22kv"
   },
   "source": [
    "Vi kobler datasettene der geografien overlapper, og vi får ut masse nyttig info om punktene de treffer på vegnettet."
   ]
  },
  {
   "cell_type": "markdown",
   "metadata": {
    "id": "uL6xuU3G22kv"
   },
   "source": [
    "## Eksempel 4\n",
    "Jeg vil ha geografiske linestrings for E6, omtrent mellom Trondheim og Oppdal (sør-/nordående)."
   ]
  },
  {
   "cell_type": "code",
   "execution_count": null,
   "metadata": {
    "id": "QZ49vYOa22kw"
   },
   "outputs": [],
   "source": [
    "query = f\"\"\"\n",
    "with vegpunkter as (\n",
    "  select *\n",
    "  from saga-data.nvdb.nvdb_vegpunkter\n",
    "  where vegkategori = \"E\"\n",
    "    and vegnummer = 6\n",
    "    and vl_objekt = \"Normal strekning\"\n",
    ")\n",
    "\n",
    ", koble_paa_kommunenavn as (\n",
    "  select\n",
    "    a.*, b.kommunenavn\n",
    "  from vegpunkter as a\n",
    "  left join saga-data.geografi.kommuner_2020_v2 as b\n",
    "    on a.kommunenummer = b.kommunenummer\n",
    ")\n",
    "\n",
    ", filtrer_kommune as (\n",
    "  select\n",
    "    veglenkesekvensid,\n",
    "    veglenke_referanse,\n",
    "    vl_punktnummer,\n",
    "    vl_subpunktnummer,\n",
    "    punkt_geometri\n",
    "  from koble_paa_kommunenavn\n",
    "  -- Vi henter bare vegpunkter som ligger mellom disse to kommunene\n",
    "  -- NB. Bruk av grader_nord eller grader_ost avhenger av plasseringen mellom lokasjonene du er interessert i\n",
    "  -- For Oslo-Bergen ville det vært naturlig å bruke grader_ost\n",
    "  where grader_nord > (select avg(grader_nord) from koble_paa_kommunenavn where kommunenavn = \"Oppdal\")\n",
    "    and grader_nord < (select avg(grader_nord) from koble_paa_kommunenavn where kommunenavn = \"Trondheim\")\n",
    "  order by 1,2,3,4 asc\n",
    ")\n",
    "\n",
    "select\n",
    "  veglenkesekvensid,\n",
    "  veglenke_referanse,\n",
    "  st_makeline(array_agg(punkt_geometri)) as linestrings\n",
    "from filtrer_kommune\n",
    "group by 1,2\n",
    "\"\"\"\n",
    "\n",
    "print(query)\n",
    "\n",
    "client.query(query).to_dataframe()"
   ]
  },
  {
   "cell_type": "markdown",
   "metadata": {
    "id": "_Z7_LboX22kw"
   },
   "source": [
    "Tips: Se på linestringene i GeoViz for å se om de virker OK før du bruker de."
   ]
  },
  {
   "cell_type": "markdown",
   "metadata": {
    "id": "Rc-s3PYG22kw"
   },
   "source": [
    "## Eksempel 5\n",
    "Hvilken kommune har flest vegpunkter med sykkelfelt?"
   ]
  },
  {
   "cell_type": "code",
   "execution_count": null,
   "metadata": {
    "id": "gQS5BgSe22kw"
   },
   "outputs": [],
   "source": [
    "query = f\"\"\"\n",
    "with vegpunkter as (\n",
    "  select *\n",
    "  from saga-data.nvdb.nvdb_vegpunkter\n",
    "  -- Enkel bilveg på Europaveg og riksveg\n",
    "  where vegkategori in (\"E\", \"R\")\n",
    "    and vl_type_veg = \"Enkel bilveg\"\n",
    ")\n",
    "\n",
    ", koble_paa_kommunenavn as (\n",
    "  select\n",
    "    a.*, b.kommunenavn\n",
    "  from vegpunkter as a\n",
    "  left join saga-data.geografi.kommuner_2020_v2 as b\n",
    "    on a.kommunenummer = b.kommunenummer\n",
    ")\n",
    "\n",
    "select\n",
    "  kommunenavn,\n",
    "  sum(case when vl_har_sykkelfelt then 1 else 0 end) / sum(1) as andel_sykkelfelt\n",
    "from koble_paa_kommunenavn\n",
    "group by kommunenavn\n",
    "order by andel_sykkelfelt desc\n",
    "\"\"\"\n",
    "\n",
    "print(query)\n",
    "\n",
    "client.query(query).to_dataframe()"
   ]
  },
  {
   "cell_type": "markdown",
   "metadata": {
    "id": "npkF8FFX22kx"
   },
   "source": [
    "Vi får sortert på kommuner med størst relativ andel vegpunkter for sykkelfelt øverst."
   ]
  },
  {
   "cell_type": "markdown",
   "metadata": {
    "id": "ImcctEx722kx"
   },
   "source": [
    "## Eksempel 6\n",
    "Sjekk andelen veglenkesekvenser på Europavei fra Nordland og nordover som har en rasteplass eller døgnhvilkeplass et sted på lenkesekvensen."
   ]
  },
  {
   "cell_type": "code",
   "execution_count": null,
   "metadata": {
    "id": "W78_YPkc22kx"
   },
   "outputs": [],
   "source": [
    "query = f\"\"\"\n",
    "with rasteplass as (\n",
    "  select\n",
    "    1 as rasteplass,\n",
    "    lokasjon.kommuner,\n",
    "    ls.veglenkesekvensid,\n",
    "    ls.startposisjon,\n",
    "    ls.sluttposisjon\n",
    "  from saga-nvdb-prod-vlmh.standardized.vegobjekter_rasteplass\n",
    "  cross join unnest(lokasjon.stedfestinger) as ls\n",
    "  where metadata.sluttdato is null\n",
    ")\n",
    "\n",
    ", dognhvileplass as (\n",
    "  select\n",
    "    1 as dognhvileplass,\n",
    "    lokasjon.kommuner,\n",
    "    ls.veglenkesekvensid,\n",
    "    ls.startposisjon,\n",
    "    ls.sluttposisjon\n",
    "  from saga-nvdb-prod-vlmh.standardized.vegobjekter_dognhvileplass\n",
    "  cross join unnest(lokasjon.stedfestinger) as ls\n",
    "  where metadata.sluttdato is null\n",
    ")\n",
    "\n",
    ", vegpunkter as (\n",
    "  select *\n",
    "  from saga-data.nvdb.nvdb_vegpunkter\n",
    "  where vegkategori = \"E\"\n",
    "  and grader_nord > (select min(grader_nord) from saga-data.nvdb.nvdb_vegpunkter where fylkesnummer = 18)\n",
    ")\n",
    "\n",
    ", joined as (\n",
    "  select\n",
    "    a.*,\n",
    "    coalesce(b.rasteplass, 0) as rasteplass, coalesce(c.dognhvileplass, 0) as dognhvileplass\n",
    "  from vegpunkter as a\n",
    "  left join rasteplass as b\n",
    "    on a.veglenkesekvensid = b.veglenkesekvensid\n",
    "    and a.relativ_posisjon between b.startposisjon and b.sluttposisjon\n",
    "  left join dognhvileplass as c\n",
    "    on a.veglenkesekvensid = c.veglenkesekvensid\n",
    "    and a.relativ_posisjon between c.startposisjon and c.sluttposisjon\n",
    ")\n",
    "\n",
    ", har_eller_har_ikke as (\n",
    "  select\n",
    "    veglenkesekvensid,\n",
    "    max(case when (coalesce(rasteplass, 0) + coalesce(dognhvileplass, 0)) > 0 then 1 else 0 end) as raste_eller_dognhvileplass\n",
    "  from joined\n",
    "  group by 1\n",
    ")\n",
    "\n",
    "select\n",
    "  avg(b.raste_eller_dognhvileplass) as andel_vls\n",
    "from joined as a\n",
    "inner join har_eller_har_ikke as b\n",
    "  on a.veglenkesekvensid = b.veglenkesekvensid\n",
    "\"\"\"\n",
    "\n",
    "print(query)\n",
    "\n",
    "client.query(query).to_dataframe()"
   ]
  },
  {
   "cell_type": "markdown",
   "metadata": {
    "id": "EhcXy2Jd4Hzp"
   },
   "source": [
    "Vi ser hvilken andel veglenkesekvenser som er tilknyttet raste eller døgnhvileplass"
   ]
  },
  {
   "cell_type": "markdown",
   "metadata": {
    "id": "2f2eLxlo4NGf"
   },
   "source": [
    "## Eksempel 7\n",
    "Hvilken kommune og vegtype hadde flest registrerte asfaltarbeid i 2022?"
   ]
  },
  {
   "cell_type": "code",
   "execution_count": null,
   "metadata": {
    "id": "q5FPtvHr4PP8"
   },
   "outputs": [],
   "source": [
    "query = f\"\"\"\n",
    "-- NB: Man kan ikke summere resultatene man får per kommune for å beregne\n",
    "-- totalt antall asfaltarbeid. Det vil førre til dobbelttelling av asfaltarbeidet\n",
    "-- i de tilfellene der samme asfaltarbeid gikk på tvers av flere kommuner\n",
    "with vegpunkter as (\n",
    "  select *\n",
    "  from saga-data.nvdb.nvdb_vegpunkter\n",
    "  where vegkategori in (\"E\", \"R\")\n",
    ")\n",
    "\n",
    ", paved_road as (\n",
    "  select\n",
    "    id as asfalt_id,\n",
    "    ls.veglenkesekvensid,\n",
    "    ls.startposisjon,\n",
    "    ls.sluttposisjon\n",
    "  from saga-nvdb-prod-vlmh.standardized.vegobjekter_vegdekke,\n",
    "  unnest(lokasjon.stedfestinger) ls\n",
    "  where extract(year from egenskaper.dekkeleggingsdato) = 2022\n",
    "  and metadata.sluttdato is null\n",
    ")\n",
    "\n",
    ", joined as (\n",
    "  select a.*, b.asfalt_id\n",
    "  from vegpunkter as a\n",
    "  left join paved_road as b\n",
    "    on a.veglenkesekvensid = b.veglenkesekvensid\n",
    "    and a.relativ_posisjon between b.startposisjon and b.sluttposisjon\n",
    ")\n",
    "\n",
    ", koble_paa_kommunenavn as (\n",
    "  select\n",
    "    a.*, b.kommunenavn\n",
    "  from joined as a\n",
    "  left join saga-data.geografi.kommuner_2020_v2 as b\n",
    "    on a.kommunenummer = b.kommunenummer\n",
    ")\n",
    "\n",
    "select\n",
    "  kommunenavn,\n",
    "  vegkategori,\n",
    "  count(distinct asfalt_id) as antall_asfalteringer\n",
    "from koble_paa_kommunenavn\n",
    "group by 1,2\n",
    "order by 3 desc\n",
    "\"\"\"\n",
    "\n",
    "print(query)\n",
    "\n",
    "client.query(query).to_dataframe()"
   ]
  },
  {
   "cell_type": "markdown",
   "metadata": {
    "id": "Wm6P5f2_4VFJ"
   },
   "source": [
    "Vi ser kombinasjoner av kommuner og vegtyper med antall asfalteringer (sortert med høyest antall øverst)."
   ]
  },
  {
   "cell_type": "markdown",
   "metadata": {
    "id": "yv6boyR04WeP"
   },
   "source": [
    "## Eksempel 8\n",
    "Jeg har en måling for en vegsystemreferanse med bokstaver og meter.<br>\n",
    "Kan jeg få et datasett om denne strekningen?\n",
    "\n",
    "**NB:** vegsystemreferanses kortform er bare gyldig frem til det skjer en endring på for vegsystemreferansen - f.eks. kan metreringen oppdateres. Husk å koble på nærmeste run_yearmonth fra nvdb_vegpunkter_history."
   ]
  },
  {
   "cell_type": "code",
   "execution_count": null,
   "metadata": {
    "id": "LWUhq6FF4X_B"
   },
   "outputs": [],
   "source": [
    "query = f\"\"\"\n",
    "with eksempeldata as (\n",
    "  select\n",
    "    \"EV6 S9D1 m0-70\" as vref_kortform,\n",
    "    date(\"2023-10-05\") as measurement_date,\n",
    "    42 as measurement\n",
    ")\n",
    "\n",
    "-- Vegsystemreferansen må brytes opp på denne måten for å kobles til NVDB Vegpunkter\n",
    ", eksempeldata_brutt_opp as (\n",
    "  select\n",
    "    trim(regexp_replace(vref_kortform, regexp_extract(vref_kortform, r\"m\\d+-\\d+\"), \"\")) as vref_rot,\n",
    "    cast(replace(split(regexp_extract(vref_kortform, r\"m\\d+-\\d+\"), \"-\")[safe_offset(0)], \"m\", \"\") as int64) as vref_fra_meter,\n",
    "    cast(split(regexp_extract(vref_kortform, r\"m\\d+-\\d+\"), \"-\")[safe_offset(1)] as int64) as vref_til_meter,\n",
    "    measurement\n",
    "  from eksempeldata\n",
    ")\n",
    "\n",
    ", vegpunkter as (\n",
    "  select *\n",
    "  from saga-data.nvdb.nvdb_vegpunkter_history\n",
    "  where run_yearmonth = (\n",
    "    select cast(cast(extract(year from measurement_date) as string) || format(\"%02d\", extract(month from measurement_date)) as int64) from eksempeldata\n",
    "  )\n",
    ")\n",
    "\n",
    "select\n",
    "  a.*,\n",
    "  b.measurement\n",
    "from vegpunkter as a\n",
    "inner join eksempeldata_brutt_opp as b\n",
    "  on a.vref_rot = b.vref_rot\n",
    "  and a.metrering between b.vref_fra_meter and b.vref_til_meter\n",
    "\"\"\"\n",
    "\n",
    "print(query)\n",
    "\n",
    "client.query(query).to_dataframe()"
   ]
  },
  {
   "cell_type": "markdown",
   "metadata": {
    "id": "BNNBvzx95tOL"
   },
   "source": [
    "Vipps, et datasett med mye mer info om strekningen, samt stedfesting for vegpunkter som man kan koble flere fakta på."
   ]
  },
  {
   "cell_type": "markdown",
   "metadata": {
    "id": "UF2ovvQwnISH"
   },
   "source": [
    "## Eksempel 9\n",
    "Jeg har et vegbilde med informasjon om vegsystemreferanse med bokstaver og meter.<br>\n",
    "Kan jeg finne nærmeste vegpunkt for dette vegbildet?\n",
    "\n",
    "**NB:** vegsystemreferanses kortform er bare gyldig frem til det skjer en endring på for vegsystemreferansen - f.eks. kan metreringen oppdateres. Husk å koble på nærmeste run_yearmonth fra nvdb_vegpunkter_history."
   ]
  },
  {
   "cell_type": "code",
   "execution_count": null,
   "metadata": {
    "id": "cVrkx1ytnISH"
   },
   "outputs": [],
   "source": [
    "query = f\"\"\"\n",
    "-- Vegbilde med vegsystemreferanse (kortform) \"RV22 S10D1 M8528 F1\"\n",
    "with eksempeldata as (\n",
    "  select\n",
    "    \"RV22 S10D1\" as vref_rot,\n",
    "    8528 as metrering,\n",
    "    date(\"2023-07-13\") as measurement_date,\n",
    "    1 as har_gulstripe\n",
    ")\n",
    "\n",
    ", vegpunkter as (\n",
    "  select *\n",
    "  from saga-data.nvdb.nvdb_vegpunkter_history\n",
    "  where run_yearmonth = (\n",
    "    select cast(cast(extract(year from measurement_date) as string) || format(\"%02d\", extract(month from measurement_date)) as int64) from eksempeldata\n",
    "  )\n",
    ")\n",
    "\n",
    ", joined as (\n",
    "  select\n",
    "    a.*,\n",
    "    b.har_gulstripe,\n",
    "    abs(a.metrering - b.metrering) as metrering_abs_diff\n",
    "  from vegpunkter as a\n",
    "  inner join eksempeldata as b\n",
    "    on a.vref_rot = b.vref_rot\n",
    "    and b.metrering between a.vref_fra_meter and a.vref_til_meter\n",
    ")\n",
    "\n",
    ", rangering_punkter as (\n",
    "  select *,\n",
    "    row_number() over (partition by vref_rot, vref_fra_meter, vref_til_meter order by metrering_abs_diff asc nulls last) as rangering\n",
    "  from joined\n",
    ")\n",
    "\n",
    "select *\n",
    "from rangering_punkter\n",
    "where rangering = 1\n",
    "\"\"\"\n",
    "\n",
    "print(query)\n",
    "\n",
    "client.query(query).to_dataframe()"
   ]
  },
  {
   "cell_type": "markdown",
   "metadata": {
    "id": "nNeCrW0jqmEd"
   },
   "source": [
    "## Eksempel 10\n",
    "I NVDB Vegpunker finnes tilknytning mellom unike vegpunkter og ruter i det minste kvadratiske rutenettet.<br>\n",
    "Hvordan kan jeg gå fra små ruter til større ruter i de kvadratiske rutenettene?<br>\n",
    "Spørringen under kan left joines mot NVDB Vegpunkter (square_gridcell_id_small)."
   ]
  },
  {
   "cell_type": "code",
   "execution_count": null,
   "metadata": {
    "id": "uohLw5wSqte3"
   },
   "outputs": [],
   "source": [
    "query = \"\"\"\n",
    "select\n",
    "  s.square_gridcell_id_small,\n",
    "  m.square_gridcell_id_medium,\n",
    "  l.square_gridcell_id_large,\n",
    "  s.geometri as squaregrid_geo_small,\n",
    "  m.geometri as squaregrid_geo_medium,\n",
    "  l.geometri as squaregrid_geo_large\n",
    "from\n",
    "  saga-data.geografi.norway_square_polygons_small s\n",
    "left join saga-data.geografi.norway_square_polygons_medium m\n",
    "  on s.x_index_medium = m.x_index_medium\n",
    "  and s.y_index_medium = m.y_index_medium\n",
    "left join saga-data.geografi.norway_square_polygons_large l\n",
    "  on m.x_index_large = l.x_index_large\n",
    "  and m.y_index_large = l.y_index_large\n",
    "limit 20\n",
    ";\n",
    "\"\"\"\n",
    "\n",
    "print(query)\n",
    "\n",
    "client.query(query).to_dataframe()"
   ]
  },
  {
   "cell_type": "markdown",
   "metadata": {
    "id": "kctH05MS9xuJ"
   },
   "source": [
    "## Eksempel 11\n",
    "Jeg har en punkt_id i NVDB Vegpunkter.<br>\n",
    "Hvordan jeg kan gå fra punktets rute (i det minste kvadratiske rutenettet) til en større kvadratisk rute?<br>\n",
    "I eksempelet er punkt_id'en gjeldende i run_yearmonth 202310 i NVDB Vegpunkter (history)."
   ]
  },
  {
   "cell_type": "code",
   "execution_count": null,
   "metadata": {
    "id": "hZ-JZ5fE9xj2"
   },
   "outputs": [],
   "source": [
    "query = \"\"\"\n",
    "with punkt as (\n",
    "  select\n",
    "    punkt_id,\n",
    "    punkt_geometri,\n",
    "    run_yearmonth\n",
    "  from saga-data.nvdb.nvdb_vegpunkter_history\n",
    "  where run_yearmonth = 202310\n",
    "  and punkt_id = \"625212-24-14-12-5-u4xsw6vq9sk77h2mcgjc\"\n",
    ")\n",
    ", grid_mapping as (\n",
    "  select\n",
    "    a.punkt_id,\n",
    "    a.punkt_geometri,\n",
    "    b.* except (punkt_id)\n",
    "  from\n",
    "    punkt a\n",
    "  inner join saga-data.geografi.norway_square_polygons_to_nvdb_vegpunkter_mapping_history b\n",
    "    on a.punkt_id = b.punkt_id\n",
    "    and a.run_yearmonth = b.run_yearmonth\n",
    ")\n",
    "select\n",
    "  a.*,\n",
    "  b.geometri\n",
    "from grid_mapping a\n",
    "inner join saga-data.geografi.norway_square_polygons_small b\n",
    "  on a.square_gridcell_id_small = b.square_gridcell_id_small\n",
    "/*\n",
    "inner join saga-data.geografi.norway_square_polygons_medium c\n",
    "  on a.square_gridcell_id_medium = c.square_gridcell_id_medium\n",
    "inner join saga-data.geografi.norway_square_polygons_large d\n",
    "  on a.square_gridcell_id_large = d.square_gridcell_id_large\n",
    "*/\n",
    ";\n",
    "\"\"\"\n",
    "\n",
    "print(query)\n",
    "\n",
    "client.query(query).to_dataframe()"
   ]
  },
  {
   "cell_type": "markdown",
   "metadata": {
    "id": "K8F63xZprRAJ"
   },
   "source": [
    "## Eksempel 12\n",
    "Heksagonale rutenett er hierarkiske, dvs. at enhver rute har en forelder-rute.<br>\n",
    "Obs! Om du skal mappe et unikt punkt mot ruter av forskjellige størrelser, bør du følge eksempelet under (Eksempel 12).<br>\n",
    "Dette er fordi et punkt ikke nødvendig er innenfor forelder-rute (Y) til rute X, selv om hierarkiet for heksagonale ruter tilsier at rute X har forelder Y.<br><br>\n",
    "Følgende SQL kan brukes som utgangspunkt for å visualisere ruter av forskjellige størrelser."
   ]
  },
  {
   "cell_type": "code",
   "execution_count": null,
   "metadata": {
    "id": "MGBEOqxmrSD-"
   },
   "outputs": [],
   "source": [
    "query = \"\"\"\n",
    "with hexagons as (\n",
    "  select\n",
    "    r8.h3_index_res_8,\n",
    "    r7.h3_index_res_7,\n",
    "    r6.h3_index_res_6,\n",
    "    r5.h3_index_res_5,\n",
    "    r8.geometri as hexgrid_geo_r8,\n",
    "    r7.geometri as hexgrid_geo_r7,\n",
    "    r6.geometri as hexgrid_geo_r6,\n",
    "    r5.geometri as hexgrid_geo_r5\n",
    "  from\n",
    "    saga-data.geografi.norway_hexagon_polygons_resolution_8 r8\n",
    "  left join saga-data.geografi.norway_hexagon_polygons_resolution_7 r7\n",
    "    on r8.parent_h3_index = r7.h3_index_res_7\n",
    "  left join saga-data.geografi.norway_hexagon_polygons_resolution_6 r6\n",
    "    on r7.parent_h3_index = r6.h3_index_res_6\n",
    "  left join saga-data.geografi.norway_hexagon_polygons_resolution_5 r5\n",
    "    on r6.parent_h3_index = r5.h3_index_res_5\n",
    ")\n",
    "select *\n",
    "from hexagons\n",
    "/*\n",
    "-- Enkelte ruter har ikke en forelder.\n",
    "-- Disse ligger likevel utenfor Norge, så det er ikke et problem.\n",
    "where (h3_index_res_7 is null\n",
    "  or h3_index_res_6 is null\n",
    "  or h3_index_res_5 is null)\n",
    "*/\n",
    ";\n",
    "\"\"\"\n",
    "\n",
    "print(query)\n",
    "\n",
    "client.query(query).to_dataframe()"
   ]
  },
  {
   "cell_type": "markdown",
   "metadata": {
    "id": "N9EifeuDDoZj"
   },
   "source": [
    "## Eksempel 13\n",
    "Jeg har en punkt_id i NVDB Vegpunkter.<br>\n",
    "Hvordan jeg kan gå fra punktets rute (i det minste heksagonale rutenettet) til en større heksagonal rute?<br>\n",
    "I eksempelet er punkt_id'en gjeldende i run_yearmonth 202310 i NVDB Vegpunkter (history)."
   ]
  },
  {
   "cell_type": "code",
   "execution_count": null,
   "metadata": {
    "id": "SgHetjVnr4es"
   },
   "outputs": [],
   "source": [
    "query = \"\"\"\n",
    "with punkt as (\n",
    "  select\n",
    "    punkt_id,\n",
    "    punkt_geometri,\n",
    "    run_yearmonth\n",
    "  from saga-data.nvdb.nvdb_vegpunkter_history\n",
    "  where run_yearmonth = 202310\n",
    "  and punkt_id = \"625212-24-14-12-5-u4xsw6vq9sk77h2mcgjc\"\n",
    ")\n",
    ", grid_mapping as (\n",
    "select\n",
    "  a.punkt_id,\n",
    "  a.punkt_geometri,\n",
    "  b.* except (punkt_id)\n",
    "from\n",
    "  punkt a\n",
    "inner join saga-data.geografi.norway_hexagon_polygons_to_nvdb_vegpunkter_mapping_history b\n",
    "  on a.punkt_id = b.punkt_id\n",
    "  and a.run_yearmonth = b.run_yearmonth\n",
    ")\n",
    "select\n",
    "  a.*,\n",
    "  b.geometri\n",
    "from grid_mapping a\n",
    "inner join saga-data.geografi.norway_hexagon_polygons_resolution_8 b\n",
    "  on a.h3_index_res_8 = b.h3_index_res_8\n",
    "/*\n",
    "inner join saga-data.geografi.norway_hexagon_polygons_resolution_7 c\n",
    "  on a.h3_index_res_7 = c.h3_index_res_7\n",
    "inner join saga-data.geografi.norway_hexagon_polygons_resolution_6 d\n",
    "  on a.h3_index_res_6 = d.h3_index_res_6\n",
    "inner join saga-data.geografi.norway_hexagon_polygons_resolution_5 e\n",
    "  on a.h3_index_res_5 = e.h3_index_res_5\n",
    "*/\n",
    ";\n",
    "\"\"\"\n",
    "\n",
    "print(query)\n",
    "\n",
    "client.query(query).to_dataframe()"
   ]
  }
 ],
 "metadata": {
  "colab": {
   "provenance": []
  },
  "interpreter": {
   "hash": "9a1ab7dd7a22ee2fdc59d95014d50eeb0611fa3ec969f116cc29f98d3982c9bf"
  },
  "kernelspec": {
   "display_name": "Python 3.10.2 64-bit ('3.10.2': pyenv)",
   "language": "python",
   "name": "python3"
  },
  "language_info": {
   "codemirror_mode": {
    "name": "ipython",
    "version": 3
   },
   "file_extension": ".py",
   "mimetype": "text/x-python",
   "name": "python",
   "nbconvert_exporter": "python",
   "pygments_lexer": "ipython3",
   "version": "3.10.2"
  }
 },
 "nbformat": 4,
 "nbformat_minor": 0
}
