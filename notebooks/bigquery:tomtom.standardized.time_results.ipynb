{
 "cells": [
  {
   "cell_type": "code",
   "execution_count": null,
   "metadata": {
    "tags": [
     "parameters"
    ]
   },
   "outputs": [],
   "source": [
    "project = 'saga-tomtom-prod-wcbc'\n",
    "use_colab_auth = True\n",
    "\n",
    "# Legg inn ditt eget prosjekt her, f.eks. 'saga-olanor-playground-ab12'\n",
    "bq_job_project = ''"
   ]
  },
  {
   "cell_type": "code",
   "execution_count": null,
   "metadata": {},
   "outputs": [],
   "source": [
    "if (use_colab_auth):\n",
    "  from google.colab import auth\n",
    "  auth.authenticate_user()\n",
    "  print('Authenticated')"
   ]
  },
  {
   "cell_type": "code",
   "execution_count": null,
   "metadata": {},
   "outputs": [],
   "source": [
    "import warnings\n",
    "from google.cloud import bigquery\n",
    "\n",
    "warnings.filterwarnings('ignore')\n",
    "client = bigquery.Client(project=bq_job_project)"
   ]
  },
  {
   "cell_type": "markdown",
   "metadata": {},
   "source": [
    "Denne spørringen gir gjennomsnittlig fart per ukedag i september 2023 for Oslo og Rogaland fylke. Merk at både `segments` og `time_results` bukes i kombinasjon med en kilde til geografidefinisjoner. Dette vil være typisk da TomToms definisjoner av segmenter og deres id er noe man gjerne ikke har kjennskap til."
   ]
  },
  {
   "cell_type": "code",
   "execution_count": null,
   "metadata": {},
   "outputs": [],
   "source": [
    "query = f\"\"\"\n",
    "-- Hent geometriske definisjonar av dei områda du vil ha med frå ei eigna datakjelde\n",
    "-- Her brukar vi fylke frå NVDB med Oslo og Rogaland som eksempel\n",
    "WITH fylker AS (\n",
    "  SELECT\n",
    "    fylkesnavn,\n",
    "    geometri\n",
    "  FROM `saga-nvdb-prod-vlmh.curated.fylker_med_region`\n",
    "  WHERE fylkesnavn IN (\"Oslo\", \"Rogaland\")\n",
    "),\n",
    "\n",
    "-- Finn alle TomTom-segment som ligg innanfor dei områda du henta over\n",
    "-- Segmenta er unikt definerte av ein segment-id og ein kartversjon\n",
    "-- Her treng vi óg lengden til kvart av segmenta for å rekne ut vekta summar på tvers av alle segmenta\n",
    "segments AS (\n",
    "  SELECT\n",
    "    segment_id,\n",
    "    map_version,\n",
    "    distance_meters, -- segmentlengde i meter\n",
    "    fylker.fylkesnavn,\n",
    "FROM `saga-tomtom-prod-wcbc.standardized.segments`\n",
    "  INNER JOIN fylker\n",
    "    ON\n",
    "      ST_CONTAINS (fylker.geometri, geometry)\n",
    "),\n",
    "\n",
    "-- For kvart av veisegmenta reknar vi ut ein gjennomsnittleg fart for dei ulike tidsperiodane vi er interesserte i\n",
    "-- Her ser vi på ulike vekedagar og summerer farta for alle timane i september 2023 som fell på same ukedag, vekta etter antall observasjonar\n",
    "-- Slik får vi ei fartsmåling per veisegment som er eit gjennomsnitt av alle enkeltobservasjonane på kvar vekedag i løpet av heile månaden\n",
    "time_results_per_day_of_week AS (\n",
    "  SELECT\n",
    "    time_results.segment_id,\n",
    "    time_results.map_version,\n",
    "    ANY_VALUE(distance_meters) AS distance_meters,\n",
    "    ANY_VALUE(fylkesnavn) AS fylkesnavn,\n",
    "    EXTRACT(DAYOFWEEK FROM sample_date) AS day_of_week,\n",
    "    SUM(average_speed_kph * sample_size) / SUM(sample_size) AS average_speed\n",
    "  FROM `saga-tomtom-prod-wcbc.standardized.time_results` AS time_results\n",
    "  INNER JOIN segments\n",
    "  ON\n",
    "    segments.segment_id = time_results.segment_id\n",
    "    AND segments.map_version = time_results.map_version\n",
    "  WHERE sample_date BETWEEN \"2023-09-01\" AND \"2023-09-30\"\n",
    "  AND sample_size > 0 -- Det er god praksis å kun nytte timar der det finns observasjonar, sjølv om det ikkje har nokon innverknad på resultatet akkurat her\n",
    "  GROUP BY segment_id, map_version, day_of_week\n",
    ")\n",
    "\n",
    "-- Til slutt summerer vi alle segmenta innanfor kvart av fylka til ei samla gjennomsnittsfart per ukedag\n",
    "-- Her nyttar vi segmentlengde som vekt for å få ei måling av det aktuelle vegnettet som ikkje avhengjer av korleis TomTom deler vegane inn i segment\n",
    "-- Om vi ikkje vektar på lengde, vil strekningar med mange og korte segment verke meir inn på resultatet enn tilsvarande strekningar med lengre segment, og det ynskjer vi å unngå\n",
    "SELECT\n",
    "  fylkesnavn,\n",
    "  day_of_week,\n",
    "  ROUND(SUM(average_speed * distance_meters) / SUM(distance_meters), 2) AS average_speed\n",
    "FROM time_results_per_day_of_week\n",
    "GROUP BY fylkesnavn, day_of_week\n",
    "ORDER BY fylkesnavn, day_of_week\n",
    "\"\"\"\n",
    "\n",
    "print(query)\n",
    "\n",
    "client.query(query).to_dataframe()"
   ]
  }
 ],
 "metadata": {
  "interpreter": {
   "hash": "9a1ab7dd7a22ee2fdc59d95014d50eeb0611fa3ec969f116cc29f98d3982c9bf"
  },
  "kernelspec": {
   "display_name": "Python 3.10.2 64-bit ('3.10.2': pyenv)",
   "language": "python",
   "name": "python3"
  },
  "language_info": {
   "codemirror_mode": {
    "name": "ipython",
    "version": 3
   },
   "file_extension": ".py",
   "mimetype": "text/x-python",
   "name": "python",
   "nbconvert_exporter": "python",
   "pygments_lexer": "ipython3",
   "version": "3.10.2"
  }
 },
 "nbformat": 4,
 "nbformat_minor": 2
}
