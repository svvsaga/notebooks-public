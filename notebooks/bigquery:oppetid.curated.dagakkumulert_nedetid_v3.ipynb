{
 "cells": [
  {
   "cell_type": "code",
   "execution_count": null,
   "metadata": {
    "tags": [
     "parameters"
    ]
   },
   "outputs": [],
   "source": [
    "project = 'saga-oppetid-prod-o6pj'\n",
    "use_colab_auth = True\n",
    "\n",
    "# Legg inn ditt eget prosjekt her, f.eks. 'saga-olanor-playground-ab12'\n",
    "bq_job_project = ''"
   ]
  },
  {
   "cell_type": "code",
   "execution_count": null,
   "metadata": {},
   "outputs": [],
   "source": [
    "if (use_colab_auth):\n",
    "  from google.colab import auth\n",
    "  auth.authenticate_user()\n",
    "  print('Authenticated')"
   ]
  },
  {
   "cell_type": "code",
   "execution_count": null,
   "metadata": {},
   "outputs": [],
   "source": [
    "import warnings\n",
    "from google.cloud import bigquery\n",
    "\n",
    "warnings.filterwarnings('ignore')\n",
    "client = bigquery.Client(project=bq_job_project)"
   ]
  },
  {
   "cell_type": "markdown",
   "metadata": {},
   "source": [
    "Denne spørringen regner ut gjennomsnittlig oppetid __for hele E6__, i tidsperioden 1. til 5. januar 2021, gjennom hele døgnet (dag og natt), ekskludert nedetid som følge av dårlig vær og ulykker på vegen."
   ]
  },
  {
   "cell_type": "code",
   "execution_count": null,
   "metadata": {},
   "outputs": [],
   "source": [
    "query = f\"\"\"\n",
    "SELECT 1 - AVG(nedetid) as oppetid FROM `{project}.consumer.dagakkumulert_nedetid` \n",
    "WHERE day BETWEEN \"2021-01-01\" AND \"2021-01-05\" \n",
    "  AND road = \"E6\" \n",
    "  AND omraade IS NULL \n",
    "  AND daynight_conf = \"dn\" \n",
    "  AND category_conf = \"ex-w-a\"\n",
    "\"\"\"\n",
    "\n",
    "print(query)\n",
    "\n",
    "client.query(query).to_dataframe()"
   ]
  },
  {
   "cell_type": "markdown",
   "metadata": {},
   "source": [
    "Denne spørringen regner ut gjennomsnittlig oppetid __for hele Norge__, dvs. alle europaveger, og riksveger, fra og med 1. januar 2022. Den ser på nedetid gjennom hele døgnet (dag og natt), men ekskluderer nedetid som følge av dårlig vær og ulykker på vegen."
   ]
  },
  {
   "cell_type": "code",
   "execution_count": null,
   "metadata": {},
   "outputs": [],
   "source": [
    "query = f\"\"\"\n",
    "SELECT 1 - AVG(nedetid) as oppetid FROM `{project}.consumer.dagakkumulert_nedetid` \n",
    "WHERE day >= \"2022-01-01\"\n",
    "  AND road IS NULL\n",
    "  AND omraade IS NULL \n",
    "  AND daynight_conf = \"dn\" \n",
    "  AND category_conf = \"ex-w-a\"\n",
    "\"\"\"\n",
    "\n",
    "print(query)\n",
    "\n",
    "client.query(query).to_dataframe()"
   ]
  },
  {
   "cell_type": "markdown",
   "metadata": {},
   "source": [
    "Denne spørringen regner ut gjennomsnittlig oppetid for den delen av E6 som går __gjennom omraade \"Midt\"__, i tidsperioden 1. til 5. januar 2021, gjennom hele døgnet (dag og natt), __uavhengig av stengingsårsak__."
   ]
  },
  {
   "cell_type": "code",
   "execution_count": null,
   "metadata": {},
   "outputs": [],
   "source": [
    "query = f\"\"\"\n",
    "SELECT 1 - AVG(nedetid) as oppetid FROM `{project}.consumer.dagakkumulert_nedetid` \n",
    "WHERE day BETWEEN \"2021-01-01\" AND \"2021-01-05\" \n",
    "  AND road = \"E6\" \n",
    "  AND omraade = \"Midt\"\n",
    "  AND daynight_conf = \"dn\" \n",
    "  AND category_conf = \"all\"\n",
    "\"\"\"\n",
    "\n",
    "print(query)\n",
    "\n",
    "client.query(query).to_dataframe()\n"
   ]
  },
  {
   "cell_type": "markdown",
   "metadata": {},
   "source": [
    "Denne spørringen regner ut gjennomsnittlig oppetid for den delen av E6 som går gjennom omraade \"Midt\", i tidsperioden 1. til 5. januar 2021, __kun om natten__, uavhengig av stengingsårsak."
   ]
  },
  {
   "cell_type": "code",
   "execution_count": null,
   "metadata": {},
   "outputs": [],
   "source": [
    "query = f\"\"\"\n",
    "SELECT 1 - AVG(nedetid) as oppetid FROM `{project}.consumer.dagakkumulert_nedetid` \n",
    "WHERE day BETWEEN \"2021-01-01\" AND \"2021-01-05\" \n",
    "  AND road = \"E6\" \n",
    "  AND omraade = \"Midt\"\n",
    "  AND daynight_conf = \"n\" \n",
    "  AND category_conf = \"all\"\n",
    "\"\"\"\n",
    "\n",
    "print(query)\n",
    "\n",
    "client.query(query).to_dataframe()\n"
   ]
  }
 ],
 "metadata": {
  "interpreter": {
   "hash": "9a1ab7dd7a22ee2fdc59d95014d50eeb0611fa3ec969f116cc29f98d3982c9bf"
  },
  "kernelspec": {
   "display_name": "Python 3.10.2 64-bit ('3.10.2': pyenv)",
   "language": "python",
   "name": "python3"
  },
  "language_info": {
   "codemirror_mode": {
    "name": "ipython",
    "version": 3
   },
   "file_extension": ".py",
   "mimetype": "text/x-python",
   "name": "python",
   "nbconvert_exporter": "python",
   "pygments_lexer": "ipython3",
   "version": "3.10.2"
  }
 },
 "nbformat": 4,
 "nbformat_minor": 2
}
